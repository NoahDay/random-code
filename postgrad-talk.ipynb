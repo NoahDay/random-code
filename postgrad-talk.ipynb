{
 "cells": [
  {
   "cell_type": "code",
   "execution_count": 11,
   "metadata": {},
   "outputs": [],
   "source": [
    "import numpy as np\n",
    "import matplotlib.pyplot as plt\n",
    "from matplotlib.animation import FuncAnimation\n",
    "\n",
    "# Parameters\n",
    "L = 100      # Length of the domain\n",
    "c_ice = 0.5  # Speed of the wave through sea ice (arbitrary unit, slower than in water)\n",
    "nx = 200     # Number of spatial points\n",
    "nt = 200     # Number of time points\n",
    "dx = L / (nx - 1)\n",
    "dt = 0.1     # Time step\n",
    "\n",
    "# Initial conditions\n",
    "x = np.linspace(0, L, nx)\n",
    "u = np.sin(2 * np.pi * x / L) * np.exp(-0.02 * x)  # Initial wave shape\n",
    "ut = np.zeros(nx)  # Initial velocity is zero\n",
    "\n",
    "# Create a 2D array to store the solution at each time step\n",
    "u_sol = np.zeros((nt, nx))\n",
    "u_sol[0, :] = u\n",
    "\n",
    "# Time evolution\n",
    "for n in range(1, nt):\n",
    "    c_ice = n/nt\n",
    "    u_sol[n, 1:-1] = (2 * (1 - c_ice**2 * dt**2 / dx**2) * u_sol[n-1, 1:-1] -\n",
    "                      u_sol[n-2, 1:-1] +\n",
    "                      c_ice**2 * dt**2 / dx**2 * (u_sol[n-1, 2:] + u_sol[n-1, :-2]))\n",
    "\n",
    "# Create the animation\n",
    "fig, ax = plt.subplots(figsize=(12, 8))\n",
    "ax.set_xlim(0, L)\n",
    "ax.set_ylim(-100, 100)\n",
    "line, = ax.plot([], [], lw=2)\n",
    "\n",
    "def init():\n",
    "    line.set_data([], [])\n",
    "    return line,\n",
    "\n",
    "def animate(i):\n",
    "    line.set_data(x, u_sol[i, :])\n",
    "    return line,\n",
    "\n",
    "ani = FuncAnimation(fig, animate, init_func=init, frames=nt, interval=50, blit=True)\n",
    "\n",
    "ani.save('/Users/noahday/GitHub/random-code/wave_propagation_sea_ice.mp4', writer='ffmpeg', fps=30)\n",
    "plt.close(fig)"
   ]
  },
  {
   "cell_type": "code",
   "execution_count": 46,
   "metadata": {},
   "outputs": [
    {
     "data": {
      "image/png": "[encoded data removed]",
      "text/plain": [
       "<Figure size 662.628x124.243 with 1 Axes>"
      ]
     },
     "metadata": {},
     "output_type": "display_data"
    }
   ],
   "source": [
    "alpha = 2*10**-2\n",
    "x = np.linspace(0,1100,1200)\n",
    "wave = np.cos(x)*np.exp(-alpha*x)\n",
    "\n",
    "\n",
    "import scienceplots\n",
    "plt.style.use('default')\n",
    "import matplotlib.colors as mcolors\n",
    "plt.style.use(['science', 'grid'])\n",
    "#plt.style.use(['science','ieee'])\n",
    "textwidth = 3.31314*2\n",
    "aspect_ratio = 6/8\n",
    "scale = 1.0\n",
    "width = textwidth * scale\n",
    "height = width * aspect_ratio/2\n",
    "\n",
    "fig, ax = plt.subplots(figsize=(width, height/2))\n",
    "ax.set_xlim(0, 1100)\n",
    "#ax.set_ylim(-100, 100)\n",
    "\n",
    "ax.plot(x, wave)\n",
    "ax.set_xlabel('$x$')\n",
    "ax.set_ylabel('Wave height, $H_s$')\n",
    "ax.set_title('Wave Propagation Through Sea Ice')\n",
    "#plt.legend()\n",
    "ax.grid(True)\n",
    "\n",
    "savepath = '/Users/noahday/Desktop/'\n",
    "plt.savefig(savepath+'wave_prop.png', dpi = 900) \n",
    "\n",
    "plt.show()"
   ]
  },
  {
   "cell_type": "code",
   "execution_count": null,
   "metadata": {},
   "outputs": [],
   "source": []
  }
 ],
 "metadata": {
  "kernelspec": {
   "display_name": "notebook",
   "language": "python",
   "name": "python3"
  },
  "language_info": {
   "codemirror_mode": {
    "name": "ipython",
    "version": 3
   },
   "file_extension": ".py",
   "mimetype": "text/x-python",
   "name": "python",
   "nbconvert_exporter": "python",
   "pygments_lexer": "ipython3",
   "version": "3.10.10"
  }
 },
 "nbformat": 4,
 "nbformat_minor": 2
}
